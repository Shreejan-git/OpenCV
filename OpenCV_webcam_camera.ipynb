{
 "cells": [
  {
   "cell_type": "code",
   "execution_count": 1,
   "id": "85f347c0",
   "metadata": {},
   "outputs": [],
   "source": [
    "import cv2"
   ]
  },
  {
   "cell_type": "code",
   "execution_count": 10,
   "id": "e2271ceb",
   "metadata": {},
   "outputs": [],
   "source": [
    "def take_picture(timer=5):\n",
    "    cap = cv2.VideoCapture(0)\n",
    "    while cap.isOpened():\n",
    "        ret, frame = cap.read()\n",
    "\n",
    "        cv2.imshow('webcame', frame)\n",
    "        \n",
    "        \n",
    "        cv2.imwrite('shree.jpg',frame)\n",
    "        \n",
    "        \n",
    "        if cv2.waitKey(5) & 0xFF==ord('q'):\n",
    "            break\n",
    "    \n",
    "    cap.release()\n",
    "    cv2.destroyAllWindows()\n",
    "    \n",
    "#         __draw_label(frame, 'timer has started', (20,20), (255,0,0))\n",
    "#         for i in range(1, timer+1):\n",
    "#             __draw_label(frame, str(i) , (20,20), (255,0,0))"
   ]
  },
  {
   "cell_type": "code",
   "execution_count": 5,
   "id": "3b30fdf8",
   "metadata": {},
   "outputs": [],
   "source": [
    "def __draw_label(img, text, pos, bg_color):\n",
    "    font_face = cv2.FONT_HERSHEY_SIMPLEX\n",
    "    scale = 1\n",
    "    color = (0, 0, 0)\n",
    "    thickness = cv2.FILLED\n",
    "    margin = 2\n",
    "    txt_size = cv2.getTextSize(text, font_face, scale, thickness)\n",
    "\n",
    "    end_x = pos[0] + txt_size[0][0] + margin\n",
    "    end_y = pos[1] - txt_size[0][1] - margin\n",
    "\n",
    "    cv2.rectangle(img, pos, (end_x, end_y), bg_color, thickness)\n",
    "    cv2.putText(img, text, pos, font_face, scale, color, 1, cv2.LINE_AA)"
   ]
  },
  {
   "cell_type": "code",
   "execution_count": 11,
   "id": "98c1dab6",
   "metadata": {
    "scrolled": true
   },
   "outputs": [],
   "source": [
    "take_picture()"
   ]
  },
  {
   "cell_type": "code",
   "execution_count": null,
   "id": "392f61bc",
   "metadata": {},
   "outputs": [],
   "source": []
  }
 ],
 "metadata": {
  "kernelspec": {
   "display_name": "opencv",
   "language": "python",
   "name": "opencv"
  },
  "language_info": {
   "codemirror_mode": {
    "name": "ipython",
    "version": 3
   },
   "file_extension": ".py",
   "mimetype": "text/x-python",
   "name": "python",
   "nbconvert_exporter": "python",
   "pygments_lexer": "ipython3",
   "version": "3.8.10"
  }
 },
 "nbformat": 4,
 "nbformat_minor": 5
}
